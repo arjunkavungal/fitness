{
 "cells": [
  {
   "cell_type": "code",
   "execution_count": 3,
   "metadata": {},
   "outputs": [],
   "source": [
    "import pandas as pd\n",
    "walk = pd.read_csv('Walk.csv',skiprows=1)\n",
    "run = pd.read_csv('Run.csv',skiprows=1)"
   ]
  },
  {
   "cell_type": "code",
   "execution_count": 4,
   "metadata": {},
   "outputs": [
    {
     "name": "stdout",
     "output_type": "stream",
     "text": [
      "<class 'pandas.core.frame.DataFrame'>\n",
      "RangeIndex: 74 entries, 0 to 73\n",
      "Data columns (total 17 columns):\n",
      " #   Column                    Non-Null Count  Dtype  \n",
      "---  ------                    --------------  -----  \n",
      " 0   type                      74 non-null     object \n",
      " 1   sourceName                74 non-null     object \n",
      " 2   sourceVersion             74 non-null     int64  \n",
      " 3   productType               74 non-null     object \n",
      " 4   device                    0 non-null      float64\n",
      " 5   startDate                 74 non-null     object \n",
      " 6   endDate                   74 non-null     object \n",
      " 7   activityType              74 non-null     object \n",
      " 8   duration                  74 non-null     float64\n",
      " 9   durationUnit              74 non-null     object \n",
      " 10  totalEnergyBurned         74 non-null     object \n",
      " 11  totalDistance             74 non-null     object \n",
      " 12  totalSwimmingStrokeCount  0 non-null      float64\n",
      " 13  totalFlightsClimbed       0 non-null      float64\n",
      " 14  HKTimeZone                41 non-null     object \n",
      " 15  HKIndoorWorkout           74 non-null     int64  \n",
      " 16  HKWasUserEntered          41 non-null     float64\n",
      "dtypes: float64(5), int64(2), object(10)\n",
      "memory usage: 10.0+ KB\n"
     ]
    }
   ],
   "source": [
    "run.info()"
   ]
  },
  {
   "cell_type": "code",
   "execution_count": 5,
   "metadata": {},
   "outputs": [
    {
     "name": "stdout",
     "output_type": "stream",
     "text": [
      "<class 'pandas.core.frame.DataFrame'>\n",
      "RangeIndex: 50917 entries, 0 to 50916\n",
      "Data columns (total 10 columns):\n",
      " #   Column            Non-Null Count  Dtype  \n",
      "---  ------            --------------  -----  \n",
      " 0   type              50917 non-null  object \n",
      " 1   sourceName        50917 non-null  object \n",
      " 2   sourceVersion     50917 non-null  object \n",
      " 3   productType       50917 non-null  object \n",
      " 4   device            27218 non-null  object \n",
      " 5   startDate         50917 non-null  object \n",
      " 6   endDate           50917 non-null  object \n",
      " 7   unit              50917 non-null  object \n",
      " 8   value             50917 non-null  float64\n",
      " 9   HKWasUserEntered  1 non-null      float64\n",
      "dtypes: float64(2), object(8)\n",
      "memory usage: 3.9+ MB\n"
     ]
    }
   ],
   "source": [
    "walk.info()"
   ]
  },
  {
   "cell_type": "code",
   "execution_count": 6,
   "metadata": {},
   "outputs": [],
   "source": [
    "run = run[['startDate','endDate','duration','durationUnit','totalDistance']]\n",
    "walk = walk[['startDate','endDate','unit','value']]"
   ]
  },
  {
   "cell_type": "code",
   "execution_count": 7,
   "metadata": {},
   "outputs": [
    {
     "data": {
      "text/html": [
       "<div>\n",
       "<style scoped>\n",
       "    .dataframe tbody tr th:only-of-type {\n",
       "        vertical-align: middle;\n",
       "    }\n",
       "\n",
       "    .dataframe tbody tr th {\n",
       "        vertical-align: top;\n",
       "    }\n",
       "\n",
       "    .dataframe thead th {\n",
       "        text-align: right;\n",
       "    }\n",
       "</style>\n",
       "<table border=\"1\" class=\"dataframe\">\n",
       "  <thead>\n",
       "    <tr style=\"text-align: right;\">\n",
       "      <th></th>\n",
       "      <th>startDate</th>\n",
       "      <th>endDate</th>\n",
       "      <th>duration</th>\n",
       "      <th>durationUnit</th>\n",
       "      <th>totalDistance</th>\n",
       "    </tr>\n",
       "  </thead>\n",
       "  <tbody>\n",
       "    <tr>\n",
       "      <th>0</th>\n",
       "      <td>2018-06-26 12:11:08 +0000</td>\n",
       "      <td>2018-06-26 13:09:10 +0000</td>\n",
       "      <td>3467.827220</td>\n",
       "      <td>sec</td>\n",
       "      <td>8007.81 m</td>\n",
       "    </tr>\n",
       "    <tr>\n",
       "      <th>1</th>\n",
       "      <td>2018-07-01 13:59:37 +0000</td>\n",
       "      <td>2018-07-01 14:04:10 +0000</td>\n",
       "      <td>115.539599</td>\n",
       "      <td>sec</td>\n",
       "      <td>541.223 m</td>\n",
       "    </tr>\n",
       "    <tr>\n",
       "      <th>2</th>\n",
       "      <td>2018-07-01 14:07:41 +0000</td>\n",
       "      <td>2018-07-01 14:13:10 +0000</td>\n",
       "      <td>76.035380</td>\n",
       "      <td>sec</td>\n",
       "      <td>432.096 m</td>\n",
       "    </tr>\n",
       "    <tr>\n",
       "      <th>3</th>\n",
       "      <td>2018-07-01 14:19:48 +0000</td>\n",
       "      <td>2018-07-01 14:29:01 +0000</td>\n",
       "      <td>186.496310</td>\n",
       "      <td>sec</td>\n",
       "      <td>821.749 m</td>\n",
       "    </tr>\n",
       "    <tr>\n",
       "      <th>4</th>\n",
       "      <td>2018-07-06 14:21:23 +0000</td>\n",
       "      <td>2018-07-06 14:57:26 +0000</td>\n",
       "      <td>2157.065077</td>\n",
       "      <td>sec</td>\n",
       "      <td>5006.3 m</td>\n",
       "    </tr>\n",
       "    <tr>\n",
       "      <th>...</th>\n",
       "      <td>...</td>\n",
       "      <td>...</td>\n",
       "      <td>...</td>\n",
       "      <td>...</td>\n",
       "      <td>...</td>\n",
       "    </tr>\n",
       "    <tr>\n",
       "      <th>69</th>\n",
       "      <td>2021-01-17 14:53:53 +0000</td>\n",
       "      <td>2021-01-17 15:12:02 +0000</td>\n",
       "      <td>1087.150000</td>\n",
       "      <td>sec</td>\n",
       "      <td>1612.7 m</td>\n",
       "    </tr>\n",
       "    <tr>\n",
       "      <th>70</th>\n",
       "      <td>2021-01-21 23:55:50 +0000</td>\n",
       "      <td>2021-01-22 00:41:04 +0000</td>\n",
       "      <td>2585.683000</td>\n",
       "      <td>sec</td>\n",
       "      <td>3220.67 m</td>\n",
       "    </tr>\n",
       "    <tr>\n",
       "      <th>71</th>\n",
       "      <td>2021-03-07 11:50:00 +0000</td>\n",
       "      <td>2021-03-07 12:09:50 +0000</td>\n",
       "      <td>1186.578000</td>\n",
       "      <td>sec</td>\n",
       "      <td>1610.39 m</td>\n",
       "    </tr>\n",
       "    <tr>\n",
       "      <th>72</th>\n",
       "      <td>2021-03-14 22:13:13 +0000</td>\n",
       "      <td>2021-03-14 22:48:06 +0000</td>\n",
       "      <td>2090.617000</td>\n",
       "      <td>sec</td>\n",
       "      <td>3317.73 m</td>\n",
       "    </tr>\n",
       "    <tr>\n",
       "      <th>73</th>\n",
       "      <td>2021-03-18 22:02:41 +0000</td>\n",
       "      <td>2021-03-18 22:16:21 +0000</td>\n",
       "      <td>714.087000</td>\n",
       "      <td>sec</td>\n",
       "      <td>1094.62 m</td>\n",
       "    </tr>\n",
       "  </tbody>\n",
       "</table>\n",
       "<p>74 rows × 5 columns</p>\n",
       "</div>"
      ],
      "text/plain": [
       "                    startDate                    endDate     duration  \\\n",
       "0   2018-06-26 12:11:08 +0000  2018-06-26 13:09:10 +0000  3467.827220   \n",
       "1   2018-07-01 13:59:37 +0000  2018-07-01 14:04:10 +0000   115.539599   \n",
       "2   2018-07-01 14:07:41 +0000  2018-07-01 14:13:10 +0000    76.035380   \n",
       "3   2018-07-01 14:19:48 +0000  2018-07-01 14:29:01 +0000   186.496310   \n",
       "4   2018-07-06 14:21:23 +0000  2018-07-06 14:57:26 +0000  2157.065077   \n",
       "..                        ...                        ...          ...   \n",
       "69  2021-01-17 14:53:53 +0000  2021-01-17 15:12:02 +0000  1087.150000   \n",
       "70  2021-01-21 23:55:50 +0000  2021-01-22 00:41:04 +0000  2585.683000   \n",
       "71  2021-03-07 11:50:00 +0000  2021-03-07 12:09:50 +0000  1186.578000   \n",
       "72  2021-03-14 22:13:13 +0000  2021-03-14 22:48:06 +0000  2090.617000   \n",
       "73  2021-03-18 22:02:41 +0000  2021-03-18 22:16:21 +0000   714.087000   \n",
       "\n",
       "   durationUnit totalDistance  \n",
       "0           sec     8007.81 m  \n",
       "1           sec     541.223 m  \n",
       "2           sec     432.096 m  \n",
       "3           sec     821.749 m  \n",
       "4           sec      5006.3 m  \n",
       "..          ...           ...  \n",
       "69          sec      1612.7 m  \n",
       "70          sec     3220.67 m  \n",
       "71          sec     1610.39 m  \n",
       "72          sec     3317.73 m  \n",
       "73          sec     1094.62 m  \n",
       "\n",
       "[74 rows x 5 columns]"
      ]
     },
     "execution_count": 7,
     "metadata": {},
     "output_type": "execute_result"
    }
   ],
   "source": [
    "run"
   ]
  },
  {
   "cell_type": "code",
   "execution_count": 8,
   "metadata": {},
   "outputs": [
    {
     "data": {
      "text/html": [
       "<div>\n",
       "<style scoped>\n",
       "    .dataframe tbody tr th:only-of-type {\n",
       "        vertical-align: middle;\n",
       "    }\n",
       "\n",
       "    .dataframe tbody tr th {\n",
       "        vertical-align: top;\n",
       "    }\n",
       "\n",
       "    .dataframe thead th {\n",
       "        text-align: right;\n",
       "    }\n",
       "</style>\n",
       "<table border=\"1\" class=\"dataframe\">\n",
       "  <thead>\n",
       "    <tr style=\"text-align: right;\">\n",
       "      <th></th>\n",
       "      <th>startDate</th>\n",
       "      <th>endDate</th>\n",
       "      <th>unit</th>\n",
       "      <th>value</th>\n",
       "    </tr>\n",
       "  </thead>\n",
       "  <tbody>\n",
       "    <tr>\n",
       "      <th>0</th>\n",
       "      <td>2017-11-10 22:44:42 +0000</td>\n",
       "      <td>2017-11-10 22:54:09 +0000</td>\n",
       "      <td>km</td>\n",
       "      <td>0.00895</td>\n",
       "    </tr>\n",
       "    <tr>\n",
       "      <th>1</th>\n",
       "      <td>2017-11-10 22:54:09 +0000</td>\n",
       "      <td>2017-11-10 23:04:02 +0000</td>\n",
       "      <td>km</td>\n",
       "      <td>0.02334</td>\n",
       "    </tr>\n",
       "    <tr>\n",
       "      <th>2</th>\n",
       "      <td>2017-11-10 23:04:02 +0000</td>\n",
       "      <td>2017-11-10 23:10:54 +0000</td>\n",
       "      <td>km</td>\n",
       "      <td>0.06496</td>\n",
       "    </tr>\n",
       "    <tr>\n",
       "      <th>3</th>\n",
       "      <td>2017-11-10 23:10:54 +0000</td>\n",
       "      <td>2017-11-10 23:19:35 +0000</td>\n",
       "      <td>km</td>\n",
       "      <td>0.06313</td>\n",
       "    </tr>\n",
       "    <tr>\n",
       "      <th>4</th>\n",
       "      <td>2017-11-13 20:16:35 +0000</td>\n",
       "      <td>2017-11-13 20:25:55 +0000</td>\n",
       "      <td>km</td>\n",
       "      <td>0.01794</td>\n",
       "    </tr>\n",
       "    <tr>\n",
       "      <th>...</th>\n",
       "      <td>...</td>\n",
       "      <td>...</td>\n",
       "      <td>...</td>\n",
       "      <td>...</td>\n",
       "    </tr>\n",
       "    <tr>\n",
       "      <th>50912</th>\n",
       "      <td>2023-03-22 01:05:50 +0000</td>\n",
       "      <td>2023-03-22 01:15:51 +0000</td>\n",
       "      <td>km</td>\n",
       "      <td>0.61136</td>\n",
       "    </tr>\n",
       "    <tr>\n",
       "      <th>50913</th>\n",
       "      <td>2023-03-22 01:15:51 +0000</td>\n",
       "      <td>2023-03-22 01:23:57 +0000</td>\n",
       "      <td>km</td>\n",
       "      <td>0.08758</td>\n",
       "    </tr>\n",
       "    <tr>\n",
       "      <th>50914</th>\n",
       "      <td>2023-03-22 14:40:12 +0000</td>\n",
       "      <td>2023-03-22 14:50:13 +0000</td>\n",
       "      <td>km</td>\n",
       "      <td>0.68570</td>\n",
       "    </tr>\n",
       "    <tr>\n",
       "      <th>50915</th>\n",
       "      <td>2023-03-22 14:50:13 +0000</td>\n",
       "      <td>2023-03-22 14:50:28 +0000</td>\n",
       "      <td>km</td>\n",
       "      <td>0.02020</td>\n",
       "    </tr>\n",
       "    <tr>\n",
       "      <th>50916</th>\n",
       "      <td>2023-03-22 15:11:41 +0000</td>\n",
       "      <td>2023-03-22 15:17:07 +0000</td>\n",
       "      <td>km</td>\n",
       "      <td>0.43729</td>\n",
       "    </tr>\n",
       "  </tbody>\n",
       "</table>\n",
       "<p>50917 rows × 4 columns</p>\n",
       "</div>"
      ],
      "text/plain": [
       "                       startDate                    endDate unit    value\n",
       "0      2017-11-10 22:44:42 +0000  2017-11-10 22:54:09 +0000   km  0.00895\n",
       "1      2017-11-10 22:54:09 +0000  2017-11-10 23:04:02 +0000   km  0.02334\n",
       "2      2017-11-10 23:04:02 +0000  2017-11-10 23:10:54 +0000   km  0.06496\n",
       "3      2017-11-10 23:10:54 +0000  2017-11-10 23:19:35 +0000   km  0.06313\n",
       "4      2017-11-13 20:16:35 +0000  2017-11-13 20:25:55 +0000   km  0.01794\n",
       "...                          ...                        ...  ...      ...\n",
       "50912  2023-03-22 01:05:50 +0000  2023-03-22 01:15:51 +0000   km  0.61136\n",
       "50913  2023-03-22 01:15:51 +0000  2023-03-22 01:23:57 +0000   km  0.08758\n",
       "50914  2023-03-22 14:40:12 +0000  2023-03-22 14:50:13 +0000   km  0.68570\n",
       "50915  2023-03-22 14:50:13 +0000  2023-03-22 14:50:28 +0000   km  0.02020\n",
       "50916  2023-03-22 15:11:41 +0000  2023-03-22 15:17:07 +0000   km  0.43729\n",
       "\n",
       "[50917 rows x 4 columns]"
      ]
     },
     "execution_count": 8,
     "metadata": {},
     "output_type": "execute_result"
    }
   ],
   "source": [
    "walk"
   ]
  },
  {
   "cell_type": "code",
   "execution_count": 9,
   "metadata": {},
   "outputs": [
    {
     "data": {
      "text/plain": [
       "array(['sec'], dtype=object)"
      ]
     },
     "execution_count": 9,
     "metadata": {},
     "output_type": "execute_result"
    }
   ],
   "source": [
    "run.durationUnit.unique()"
   ]
  },
  {
   "cell_type": "code",
   "execution_count": 10,
   "metadata": {},
   "outputs": [
    {
     "data": {
      "text/plain": [
       "array(['km'], dtype=object)"
      ]
     },
     "execution_count": 10,
     "metadata": {},
     "output_type": "execute_result"
    }
   ],
   "source": [
    "walk.unit.unique()"
   ]
  },
  {
   "cell_type": "code",
   "execution_count": 11,
   "metadata": {},
   "outputs": [],
   "source": [
    "run[['Date','StartTime']] = run[\"startDate\"].str.split(\" \", n = 1, expand = True)"
   ]
  },
  {
   "cell_type": "code",
   "execution_count": 12,
   "metadata": {},
   "outputs": [],
   "source": [
    "run[['EndDate','EndTime']] = run[\"endDate\"].str.split(\" \", n = 1, expand = True)"
   ]
  },
  {
   "cell_type": "code",
   "execution_count": 13,
   "metadata": {},
   "outputs": [],
   "source": [
    "run['totalDistance'] = run[\"totalDistance\"].str.split(\" \", n = 1, expand = True)[0]"
   ]
  },
  {
   "cell_type": "code",
   "execution_count": 14,
   "metadata": {},
   "outputs": [],
   "source": [
    "walk[['StartDate','StartTime']] = walk[\"startDate\"].str.split(\" \", n = 1, expand = True)\n",
    "walk[['EndDate','EndTime']] = walk[\"endDate\"].str.split(\" \", n = 1, expand = True)\n"
   ]
  },
  {
   "cell_type": "code",
   "execution_count": 26,
   "metadata": {},
   "outputs": [],
   "source": [
    "walkdate = walk.groupby('StartDate').sum()"
   ]
  },
  {
   "cell_type": "code",
   "execution_count": 24,
   "metadata": {},
   "outputs": [],
   "source": [
    "run.totalDistance = run.totalDistance.astype(float)"
   ]
  },
  {
   "cell_type": "code",
   "execution_count": 27,
   "metadata": {},
   "outputs": [],
   "source": [
    "rundate = run.groupby('Date').sum()"
   ]
  },
  {
   "cell_type": "code",
   "execution_count": 36,
   "metadata": {},
   "outputs": [
    {
     "data": {
      "text/plain": [
       "Index(['value'], dtype='object')"
      ]
     },
     "execution_count": 36,
     "metadata": {},
     "output_type": "execute_result"
    }
   ],
   "source": [
    "walkdate.columns"
   ]
  },
  {
   "cell_type": "code",
   "execution_count": 51,
   "metadata": {},
   "outputs": [],
   "source": [
    "df = pd.merge(walkdate, rundate, left_index=True, right_index=True)"
   ]
  },
  {
   "cell_type": "code",
   "execution_count": 54,
   "metadata": {},
   "outputs": [],
   "source": [
    "df = df.rename(columns={\"value\": \"kmWalked\", \"totalDistance\": \"workoutDistance\"})"
   ]
  },
  {
   "cell_type": "code",
   "execution_count": 55,
   "metadata": {},
   "outputs": [
    {
     "data": {
      "text/html": [
       "<div>\n",
       "<style scoped>\n",
       "    .dataframe tbody tr th:only-of-type {\n",
       "        vertical-align: middle;\n",
       "    }\n",
       "\n",
       "    .dataframe tbody tr th {\n",
       "        vertical-align: top;\n",
       "    }\n",
       "\n",
       "    .dataframe thead th {\n",
       "        text-align: right;\n",
       "    }\n",
       "</style>\n",
       "<table border=\"1\" class=\"dataframe\">\n",
       "  <thead>\n",
       "    <tr style=\"text-align: right;\">\n",
       "      <th></th>\n",
       "      <th>kmWalked</th>\n",
       "      <th>duration</th>\n",
       "      <th>workoutDistance</th>\n",
       "    </tr>\n",
       "  </thead>\n",
       "  <tbody>\n",
       "    <tr>\n",
       "      <th>2018-06-26</th>\n",
       "      <td>10.316850</td>\n",
       "      <td>3467.827220</td>\n",
       "      <td>8007.810</td>\n",
       "    </tr>\n",
       "    <tr>\n",
       "      <th>2018-07-01</th>\n",
       "      <td>7.417839</td>\n",
       "      <td>378.071289</td>\n",
       "      <td>1795.068</td>\n",
       "    </tr>\n",
       "    <tr>\n",
       "      <th>2018-07-06</th>\n",
       "      <td>5.369296</td>\n",
       "      <td>2157.065077</td>\n",
       "      <td>5006.300</td>\n",
       "    </tr>\n",
       "    <tr>\n",
       "      <th>2018-07-09</th>\n",
       "      <td>3.029476</td>\n",
       "      <td>819.732862</td>\n",
       "      <td>1814.680</td>\n",
       "    </tr>\n",
       "    <tr>\n",
       "      <th>2018-07-13</th>\n",
       "      <td>4.871245</td>\n",
       "      <td>1892.017131</td>\n",
       "      <td>4253.620</td>\n",
       "    </tr>\n",
       "    <tr>\n",
       "      <th>...</th>\n",
       "      <td>...</td>\n",
       "      <td>...</td>\n",
       "      <td>...</td>\n",
       "    </tr>\n",
       "    <tr>\n",
       "      <th>2021-01-17</th>\n",
       "      <td>4.344964</td>\n",
       "      <td>1087.150000</td>\n",
       "      <td>1612.700</td>\n",
       "    </tr>\n",
       "    <tr>\n",
       "      <th>2021-01-21</th>\n",
       "      <td>1.168830</td>\n",
       "      <td>2585.683000</td>\n",
       "      <td>3220.670</td>\n",
       "    </tr>\n",
       "    <tr>\n",
       "      <th>2021-03-07</th>\n",
       "      <td>3.375410</td>\n",
       "      <td>1186.578000</td>\n",
       "      <td>1610.390</td>\n",
       "    </tr>\n",
       "    <tr>\n",
       "      <th>2021-03-14</th>\n",
       "      <td>7.238614</td>\n",
       "      <td>2090.617000</td>\n",
       "      <td>3317.730</td>\n",
       "    </tr>\n",
       "    <tr>\n",
       "      <th>2021-03-18</th>\n",
       "      <td>2.316411</td>\n",
       "      <td>714.087000</td>\n",
       "      <td>1094.620</td>\n",
       "    </tr>\n",
       "  </tbody>\n",
       "</table>\n",
       "<p>62 rows × 3 columns</p>\n",
       "</div>"
      ],
      "text/plain": [
       "             kmWalked     duration  workoutDistance\n",
       "2018-06-26  10.316850  3467.827220         8007.810\n",
       "2018-07-01   7.417839   378.071289         1795.068\n",
       "2018-07-06   5.369296  2157.065077         5006.300\n",
       "2018-07-09   3.029476   819.732862         1814.680\n",
       "2018-07-13   4.871245  1892.017131         4253.620\n",
       "...               ...          ...              ...\n",
       "2021-01-17   4.344964  1087.150000         1612.700\n",
       "2021-01-21   1.168830  2585.683000         3220.670\n",
       "2021-03-07   3.375410  1186.578000         1610.390\n",
       "2021-03-14   7.238614  2090.617000         3317.730\n",
       "2021-03-18   2.316411   714.087000         1094.620\n",
       "\n",
       "[62 rows x 3 columns]"
      ]
     },
     "execution_count": 55,
     "metadata": {},
     "output_type": "execute_result"
    }
   ],
   "source": [
    "df"
   ]
  },
  {
   "cell_type": "code",
   "execution_count": 56,
   "metadata": {},
   "outputs": [
    {
     "name": "stderr",
     "output_type": "stream",
     "text": [
      "/var/folders/j6/34qvgl4n77n138wwm96y1hy00000gn/T/ipykernel_20345/780582581.py:1: UserWarning: Pandas doesn't allow columns to be created via a new attribute name - see https://pandas.pydata.org/pandas-docs/stable/indexing.html#attribute-access\n",
      "  df.workoutDuration = df.duration / 3600\n"
     ]
    }
   ],
   "source": [
    "df.workoutDuration = df.duration / 3600\n",
    "df.workoutDistance = df.workoutDistance / 1000"
   ]
  },
  {
   "cell_type": "code",
   "execution_count": 58,
   "metadata": {},
   "outputs": [],
   "source": [
    "df['workoutDuration'] = df.duration / 3600"
   ]
  },
  {
   "cell_type": "code",
   "execution_count": 60,
   "metadata": {},
   "outputs": [],
   "source": [
    "df = df.drop(['duration'],axis=1)"
   ]
  },
  {
   "cell_type": "code",
   "execution_count": 62,
   "metadata": {},
   "outputs": [],
   "source": [
    "df['speed'] = df.workoutDistance / df.workoutDuration"
   ]
  },
  {
   "cell_type": "code",
   "execution_count": 63,
   "metadata": {},
   "outputs": [
    {
     "data": {
      "text/html": [
       "<div>\n",
       "<style scoped>\n",
       "    .dataframe tbody tr th:only-of-type {\n",
       "        vertical-align: middle;\n",
       "    }\n",
       "\n",
       "    .dataframe tbody tr th {\n",
       "        vertical-align: top;\n",
       "    }\n",
       "\n",
       "    .dataframe thead th {\n",
       "        text-align: right;\n",
       "    }\n",
       "</style>\n",
       "<table border=\"1\" class=\"dataframe\">\n",
       "  <thead>\n",
       "    <tr style=\"text-align: right;\">\n",
       "      <th></th>\n",
       "      <th>kmWalked</th>\n",
       "      <th>workoutDistance</th>\n",
       "      <th>workoutDuration</th>\n",
       "      <th>speed</th>\n",
       "    </tr>\n",
       "  </thead>\n",
       "  <tbody>\n",
       "    <tr>\n",
       "      <th>2018-06-26</th>\n",
       "      <td>10.316850</td>\n",
       "      <td>8.007810</td>\n",
       "      <td>0.963285</td>\n",
       "      <td>8.313020</td>\n",
       "    </tr>\n",
       "    <tr>\n",
       "      <th>2018-07-01</th>\n",
       "      <td>7.417839</td>\n",
       "      <td>1.795068</td>\n",
       "      <td>0.105020</td>\n",
       "      <td>17.092662</td>\n",
       "    </tr>\n",
       "    <tr>\n",
       "      <th>2018-07-06</th>\n",
       "      <td>5.369296</td>\n",
       "      <td>5.006300</td>\n",
       "      <td>0.599185</td>\n",
       "      <td>8.355186</td>\n",
       "    </tr>\n",
       "    <tr>\n",
       "      <th>2018-07-09</th>\n",
       "      <td>3.029476</td>\n",
       "      <td>1.814680</td>\n",
       "      <td>0.227704</td>\n",
       "      <td>7.969484</td>\n",
       "    </tr>\n",
       "    <tr>\n",
       "      <th>2018-07-13</th>\n",
       "      <td>4.871245</td>\n",
       "      <td>4.253620</td>\n",
       "      <td>0.525560</td>\n",
       "      <td>8.093495</td>\n",
       "    </tr>\n",
       "    <tr>\n",
       "      <th>...</th>\n",
       "      <td>...</td>\n",
       "      <td>...</td>\n",
       "      <td>...</td>\n",
       "      <td>...</td>\n",
       "    </tr>\n",
       "    <tr>\n",
       "      <th>2021-01-17</th>\n",
       "      <td>4.344964</td>\n",
       "      <td>1.612700</td>\n",
       "      <td>0.301986</td>\n",
       "      <td>5.340312</td>\n",
       "    </tr>\n",
       "    <tr>\n",
       "      <th>2021-01-21</th>\n",
       "      <td>1.168830</td>\n",
       "      <td>3.220670</td>\n",
       "      <td>0.718245</td>\n",
       "      <td>4.484081</td>\n",
       "    </tr>\n",
       "    <tr>\n",
       "      <th>2021-03-07</th>\n",
       "      <td>3.375410</td>\n",
       "      <td>1.610390</td>\n",
       "      <td>0.329605</td>\n",
       "      <td>4.885818</td>\n",
       "    </tr>\n",
       "    <tr>\n",
       "      <th>2021-03-14</th>\n",
       "      <td>7.238614</td>\n",
       "      <td>3.317730</td>\n",
       "      <td>0.580727</td>\n",
       "      <td>5.713064</td>\n",
       "    </tr>\n",
       "    <tr>\n",
       "      <th>2021-03-18</th>\n",
       "      <td>2.316411</td>\n",
       "      <td>1.094620</td>\n",
       "      <td>0.198357</td>\n",
       "      <td>5.518420</td>\n",
       "    </tr>\n",
       "  </tbody>\n",
       "</table>\n",
       "<p>62 rows × 4 columns</p>\n",
       "</div>"
      ],
      "text/plain": [
       "             kmWalked  workoutDistance  workoutDuration      speed\n",
       "2018-06-26  10.316850         8.007810         0.963285   8.313020\n",
       "2018-07-01   7.417839         1.795068         0.105020  17.092662\n",
       "2018-07-06   5.369296         5.006300         0.599185   8.355186\n",
       "2018-07-09   3.029476         1.814680         0.227704   7.969484\n",
       "2018-07-13   4.871245         4.253620         0.525560   8.093495\n",
       "...               ...              ...              ...        ...\n",
       "2021-01-17   4.344964         1.612700         0.301986   5.340312\n",
       "2021-01-21   1.168830         3.220670         0.718245   4.484081\n",
       "2021-03-07   3.375410         1.610390         0.329605   4.885818\n",
       "2021-03-14   7.238614         3.317730         0.580727   5.713064\n",
       "2021-03-18   2.316411         1.094620         0.198357   5.518420\n",
       "\n",
       "[62 rows x 4 columns]"
      ]
     },
     "execution_count": 63,
     "metadata": {},
     "output_type": "execute_result"
    }
   ],
   "source": [
    "df"
   ]
  },
  {
   "cell_type": "code",
   "execution_count": 66,
   "metadata": {},
   "outputs": [
    {
     "name": "stderr",
     "output_type": "stream",
     "text": [
      "1104.25s - pydevd: Sending message related to process being replaced timed-out after 5 seconds\n"
     ]
    },
    {
     "name": "stdout",
     "output_type": "stream",
     "text": [
      "\u001b[33mDEPRECATION: Configuring installation scheme with distutils config files is deprecated and will no longer work in the near future. If you are using a Homebrew or Linuxbrew Python, please see discussion at https://github.com/Homebrew/homebrew-core/issues/76621\u001b[0m\u001b[33m\n",
      "\u001b[0mRequirement already satisfied: statsmodels in /opt/homebrew/lib/python3.9/site-packages (0.13.5)\n",
      "Requirement already satisfied: pandas>=0.25 in /opt/homebrew/lib/python3.9/site-packages (from statsmodels) (1.4.2)\n",
      "Requirement already satisfied: packaging>=21.3 in /opt/homebrew/lib/python3.9/site-packages (from statsmodels) (21.3)\n",
      "Requirement already satisfied: patsy>=0.5.2 in /opt/homebrew/lib/python3.9/site-packages (from statsmodels) (0.5.3)\n",
      "Requirement already satisfied: scipy>=1.3 in /opt/homebrew/lib/python3.9/site-packages (from statsmodels) (1.8.1)\n",
      "Requirement already satisfied: numpy>=1.17 in /opt/homebrew/lib/python3.9/site-packages (from statsmodels) (1.22.4)\n",
      "Requirement already satisfied: pyparsing!=3.0.5,>=2.0.2 in /opt/homebrew/lib/python3.9/site-packages (from packaging>=21.3->statsmodels) (3.0.9)\n",
      "Requirement already satisfied: python-dateutil>=2.8.1 in /opt/homebrew/lib/python3.9/site-packages (from pandas>=0.25->statsmodels) (2.8.2)\n",
      "Requirement already satisfied: pytz>=2020.1 in /opt/homebrew/lib/python3.9/site-packages (from pandas>=0.25->statsmodels) (2022.1)\n",
      "Requirement already satisfied: six in /opt/homebrew/lib/python3.9/site-packages (from patsy>=0.5.2->statsmodels) (1.15.0)\n",
      "\u001b[33mDEPRECATION: Configuring installation scheme with distutils config files is deprecated and will no longer work in the near future. If you are using a Homebrew or Linuxbrew Python, please see discussion at https://github.com/Homebrew/homebrew-core/issues/76621\u001b[0m\u001b[33m\n",
      "\u001b[0mNote: you may need to restart the kernel to use updated packages.\n"
     ]
    },
    {
     "data": {
      "text/html": [
       "<table class=\"simpletable\">\n",
       "<caption>OLS Regression Results</caption>\n",
       "<tr>\n",
       "  <th>Dep. Variable:</th>        <td>kmWalked</td>     <th>  R-squared:         </th> <td>   0.283</td>\n",
       "</tr>\n",
       "<tr>\n",
       "  <th>Model:</th>                   <td>OLS</td>       <th>  Adj. R-squared:    </th> <td>   0.271</td>\n",
       "</tr>\n",
       "<tr>\n",
       "  <th>Method:</th>             <td>Least Squares</td>  <th>  F-statistic:       </th> <td>   23.73</td>\n",
       "</tr>\n",
       "<tr>\n",
       "  <th>Date:</th>             <td>Wed, 22 Mar 2023</td> <th>  Prob (F-statistic):</th> <td>8.46e-06</td>\n",
       "</tr>\n",
       "<tr>\n",
       "  <th>Time:</th>                 <td>12:34:24</td>     <th>  Log-Likelihood:    </th> <td> -131.86</td>\n",
       "</tr>\n",
       "<tr>\n",
       "  <th>No. Observations:</th>      <td>    62</td>      <th>  AIC:               </th> <td>   267.7</td>\n",
       "</tr>\n",
       "<tr>\n",
       "  <th>Df Residuals:</th>          <td>    60</td>      <th>  BIC:               </th> <td>   272.0</td>\n",
       "</tr>\n",
       "<tr>\n",
       "  <th>Df Model:</th>              <td>     1</td>      <th>                     </th>     <td> </td>   \n",
       "</tr>\n",
       "<tr>\n",
       "  <th>Covariance Type:</th>      <td>nonrobust</td>    <th>                     </th>     <td> </td>   \n",
       "</tr>\n",
       "</table>\n",
       "<table class=\"simpletable\">\n",
       "<tr>\n",
       "         <td></td>            <th>coef</th>     <th>std err</th>      <th>t</th>      <th>P>|t|</th>  <th>[0.025</th>    <th>0.975]</th>  \n",
       "</tr>\n",
       "<tr>\n",
       "  <th>Intercept</th>       <td>    3.2727</td> <td>    0.551</td> <td>    5.939</td> <td> 0.000</td> <td>    2.170</td> <td>    4.375</td>\n",
       "</tr>\n",
       "<tr>\n",
       "  <th>workoutDistance</th> <td>    0.6729</td> <td>    0.138</td> <td>    4.871</td> <td> 0.000</td> <td>    0.397</td> <td>    0.949</td>\n",
       "</tr>\n",
       "</table>\n",
       "<table class=\"simpletable\">\n",
       "<tr>\n",
       "  <th>Omnibus:</th>       <td> 3.035</td> <th>  Durbin-Watson:     </th> <td>   1.560</td>\n",
       "</tr>\n",
       "<tr>\n",
       "  <th>Prob(Omnibus):</th> <td> 0.219</td> <th>  Jarque-Bera (JB):  </th> <td>   2.517</td>\n",
       "</tr>\n",
       "<tr>\n",
       "  <th>Skew:</th>          <td>-0.169</td> <th>  Prob(JB):          </th> <td>   0.284</td>\n",
       "</tr>\n",
       "<tr>\n",
       "  <th>Kurtosis:</th>      <td> 3.927</td> <th>  Cond. No.          </th> <td>    8.80</td>\n",
       "</tr>\n",
       "</table><br/><br/>Notes:<br/>[1] Standard Errors assume that the covariance matrix of the errors is correctly specified."
      ],
      "text/plain": [
       "<class 'statsmodels.iolib.summary.Summary'>\n",
       "\"\"\"\n",
       "                            OLS Regression Results                            \n",
       "==============================================================================\n",
       "Dep. Variable:               kmWalked   R-squared:                       0.283\n",
       "Model:                            OLS   Adj. R-squared:                  0.271\n",
       "Method:                 Least Squares   F-statistic:                     23.73\n",
       "Date:                Wed, 22 Mar 2023   Prob (F-statistic):           8.46e-06\n",
       "Time:                        12:34:24   Log-Likelihood:                -131.86\n",
       "No. Observations:                  62   AIC:                             267.7\n",
       "Df Residuals:                      60   BIC:                             272.0\n",
       "Df Model:                           1                                         \n",
       "Covariance Type:            nonrobust                                         \n",
       "===================================================================================\n",
       "                      coef    std err          t      P>|t|      [0.025      0.975]\n",
       "-----------------------------------------------------------------------------------\n",
       "Intercept           3.2727      0.551      5.939      0.000       2.170       4.375\n",
       "workoutDistance     0.6729      0.138      4.871      0.000       0.397       0.949\n",
       "==============================================================================\n",
       "Omnibus:                        3.035   Durbin-Watson:                   1.560\n",
       "Prob(Omnibus):                  0.219   Jarque-Bera (JB):                2.517\n",
       "Skew:                          -0.169   Prob(JB):                        0.284\n",
       "Kurtosis:                       3.927   Cond. No.                         8.80\n",
       "==============================================================================\n",
       "\n",
       "Notes:\n",
       "[1] Standard Errors assume that the covariance matrix of the errors is correctly specified.\n",
       "\"\"\""
      ]
     },
     "execution_count": 66,
     "metadata": {},
     "output_type": "execute_result"
    }
   ],
   "source": [
    "%pip install statsmodels\n",
    "import statsmodels.formula.api as smf\n",
    "smf.ols('kmWalked ~ workoutDistance', data=df).fit().summary()"
   ]
  }
 ],
 "metadata": {
  "kernelspec": {
   "display_name": "Python 3",
   "language": "python",
   "name": "python3"
  },
  "language_info": {
   "codemirror_mode": {
    "name": "ipython",
    "version": 3
   },
   "file_extension": ".py",
   "mimetype": "text/x-python",
   "name": "python",
   "nbconvert_exporter": "python",
   "pygments_lexer": "ipython3",
   "version": "3.9.13"
  },
  "orig_nbformat": 4,
  "vscode": {
   "interpreter": {
    "hash": "b0fa6594d8f4cbf19f97940f81e996739fb7646882a419484c72d19e05852a7e"
   }
  }
 },
 "nbformat": 4,
 "nbformat_minor": 2
}
